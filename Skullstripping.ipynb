{
 "cells": [
  {
   "cell_type": "markdown",
   "metadata": {},
   "source": [
    "# Skullstripping with BET"
   ]
  },
  {
   "cell_type": "code",
   "execution_count": 5,
   "metadata": {
    "collapsed": true
   },
   "outputs": [],
   "source": [
    "from subprocess import check_call\n",
    "import os\n",
    "from glob import glob"
   ]
  },
  {
   "cell_type": "code",
   "execution_count": 6,
   "metadata": {
    "collapsed": true
   },
   "outputs": [],
   "source": [
    "t1w = \"/Users/rx/Documents/Research/my_fmriworkshop/fmri_workshop/data/sub-10159/anat/sub-10159_T1w.nii.gz\""
   ]
  },
  {
   "cell_type": "code",
   "execution_count": 8,
   "metadata": {},
   "outputs": [
    {
     "name": "stdout",
     "output_type": "stream",
     "text": [
      "bet /Users/rx/Documents/Research/my_fmriworkshop/fmri_workshop/data/sub-10159/anat/sub-10159_T1w.nii.gz /tmp/sub-10159_T1w_brain -m\n"
     ]
    }
   ],
   "source": [
    "output_dir = \"/tmp\"\n",
    "for input_file in glob(\"/Users/rx/Documents/Research/my_fmriworkshop/fmri_workshop/data/sub-10159/anat/*_T1w.nii.gz\"):\n",
    "    my_cmd_template = \"bet {input_file} {output_file} -m\"\n",
    "    directory, file_name = os.path.split(input_file)\n",
    "    list_of_tokens = file_name.split(\".\")\n",
    "    out_file_name = list_of_tokens[0] + \"_brain\"\n",
    "    out_path=os.path.join(output_dir, out_file_name)\n",
    "    cmd=(my_cmd_template.format(input_file=input_file, output_file=out_path))\n",
    "    print(cmd)\n",
    "    check_call(cmd, shell=True)\n",
    "    \n",
    "    #check_call(\"bet /Users/rx/Documents/Research/my_fmriworkshop/fmri_workshop/data/sub-10159/anat/sub-10159_T1w.nii.gz\", shell=True)"
   ]
  },
  {
   "cell_type": "code",
   "execution_count": 9,
   "metadata": {},
   "outputs": [
    {
     "name": "stdout",
     "output_type": "stream",
     "text": [
      "/tmp/sub-10159_T1w_brain.nii.gz\r\n"
     ]
    }
   ],
   "source": [
    "!ls /tmp/sub-10159_T1w_brain.nii.gz"
   ]
  },
  {
   "cell_type": "code",
   "execution_count": 12,
   "metadata": {},
   "outputs": [
    {
     "data": {
      "text/plain": [
       "'sub-10159_T1w.nii.gz'"
      ]
     },
     "execution_count": 12,
     "metadata": {},
     "output_type": "execute_result"
    }
   ],
   "source": [
    "directory, file_name = os.path.split(\"/Users/rx/Documents/Research/my_fmriworkshop/fmri_workshop/data/sub-10159/anat/sub-10159_T1w.nii.gz\")\n",
    "file_name"
   ]
  },
  {
   "cell_type": "code",
   "execution_count": 13,
   "metadata": {},
   "outputs": [
    {
     "data": {
      "text/plain": [
       "'sub-10159_T1w'"
      ]
     },
     "execution_count": 13,
     "metadata": {},
     "output_type": "execute_result"
    }
   ],
   "source": [
    "list_of_tokens = \"sub-10159_T1w.nii.gz\".split(\".\")\n",
    "list_of_tokens[0]"
   ]
  },
  {
   "cell_type": "code",
   "execution_count": null,
   "metadata": {
    "collapsed": true
   },
   "outputs": [],
   "source": [
    "os.path.join(\"dir1\",\"dir2\",\"dir3\")"
   ]
  }
 ],
 "metadata": {
  "kernelspec": {
   "display_name": "Python 3",
   "language": "python",
   "name": "python3"
  },
  "language_info": {
   "codemirror_mode": {
    "name": "ipython",
    "version": 3
   },
   "file_extension": ".py",
   "mimetype": "text/x-python",
   "name": "python",
   "nbconvert_exporter": "python",
   "pygments_lexer": "ipython3",
   "version": "3.6.3"
  }
 },
 "nbformat": 4,
 "nbformat_minor": 2
}
